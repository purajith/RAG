{
  "cells": [
    {
      "cell_type": "markdown",
      "source": [
        "\n",
        "### **Fuzzy Search** – *Character-Level Typo/Spell Match*\n",
        "\n",
        "- **Use Case**: Handling **typos or minor spelling errors** in terms.\n",
        "- **Best for**:\n",
        "  - Searching misspelled names, usernames, etc.\n",
        "  - Typo tolerance\n",
        "- **Example**:  \n",
        "  Query: `\"heath\"`  \n",
        "  Matches: `\"health\"` because it's only 1 character different.\n",
        "\n",
        "> Fuzzy search is great when users **mistype words or names**.\n",
        "\n",
        "---\n",
        "\n",
        "###  Summary: Which One to Choose?\n",
        "\n",
        "| Feature                    | BM25                        | Fuzzy Search               |\n",
        "|---------------------------|-----------------------------|----------------------------|\n",
        "| Partial term match        | ✔ Yes                       | ✖ No (character level only)|\n",
        "| Typo handling             | ✖ No                        | ✔ Yes                      |\n",
        "| Meaning/context based     | ✔ Yes (sort of)             | ✖ No                       |\n",
        "| Works well for RAG        | ✔ Perfect fit               | ✖ Not ideal                |\n",
        "\n",
        "---\n",
        "\n",
        "###  Your Case (RAG or AI Search):\n",
        "**Use BM25** if you care about **relevance and partial keyword matching**.\n",
        "\n",
        "**Use Fuzzy Search** only if you're trying to correct user **typos** or **misspellings**.\n"
      ],
      "metadata": {
        "id": "SU8R3WWccBHZ"
      }
    },
    {
      "cell_type": "code",
      "source": [
        "%pip install --upgrade --quiet  rank_bm25  langchain nltk tiktoken fuzzywuzzy\n"
      ],
      "metadata": {
        "id": "keRETi0OQSdc",
        "colab": {
          "base_uri": "https://localhost:8080/"
        },
        "outputId": "328c4250-1612-4901-b878-c258719b0e7a"
      },
      "execution_count": 1,
      "outputs": [
        {
          "output_type": "stream",
          "name": "stdout",
          "text": [
            "\u001b[?25l   \u001b[90m━━━━━━━━━━━━━━━━━━━━━━━━━━━━━━━━━━━━━━━━\u001b[0m \u001b[32m0.0/1.0 MB\u001b[0m \u001b[31m?\u001b[0m eta \u001b[36m-:--:--\u001b[0m\r\u001b[2K   \u001b[91m━━━━━━━━━━━━━━━━━━━━━\u001b[0m\u001b[90m╺\u001b[0m\u001b[90m━━━━━━━━━━━━━━━━━━\u001b[0m \u001b[32m0.5/1.0 MB\u001b[0m \u001b[31m15.9 MB/s\u001b[0m eta \u001b[36m0:00:01\u001b[0m\r\u001b[2K   \u001b[90m━━━━━━━━━━━━━━━━━━━━━━━━━━━━━━━━━━━━━━━━\u001b[0m \u001b[32m1.0/1.0 MB\u001b[0m \u001b[31m14.3 MB/s\u001b[0m eta \u001b[36m0:00:00\u001b[0m\n",
            "\u001b[?25h\u001b[?25l   \u001b[90m━━━━━━━━━━━━━━━━━━━━━━━━━━━━━━━━━━━━━━━━\u001b[0m \u001b[32m0.0/1.2 MB\u001b[0m \u001b[31m?\u001b[0m eta \u001b[36m-:--:--\u001b[0m\r\u001b[2K   \u001b[90m━━━━━━━━━━━━━━━━━━━━━━━━━━━━━━━━━━━━━━━━\u001b[0m \u001b[32m1.2/1.2 MB\u001b[0m \u001b[31m37.4 MB/s\u001b[0m eta \u001b[36m0:00:00\u001b[0m\n",
            "\u001b[?25h\u001b[?25l   \u001b[90m━━━━━━━━━━━━━━━━━━━━━━━━━━━━━━━━━━━━━━━━\u001b[0m \u001b[32m0.0/437.6 kB\u001b[0m \u001b[31m?\u001b[0m eta \u001b[36m-:--:--\u001b[0m\r\u001b[2K   \u001b[90m━━━━━━━━━━━━━━━━━━━━━━━━━━━━━━━━━━━━━━━━\u001b[0m \u001b[32m437.6/437.6 kB\u001b[0m \u001b[31m19.0 MB/s\u001b[0m eta \u001b[36m0:00:00\u001b[0m\n",
            "\u001b[?25h"
          ]
        }
      ]
    },
    {
      "cell_type": "code",
      "source": [
        "from langchain.schema import Document\n",
        "import nltk\n",
        "from nltk.tokenize import sent_tokenize\n",
        "from fuzzywuzzy import process\n",
        "\n",
        "# Download sentence tokenizer\n",
        "nltk.download(\"punkt\")\n",
        "nltk.download('punkt_tab')"
      ],
      "metadata": {
        "colab": {
          "base_uri": "https://localhost:8080/"
        },
        "id": "g8HdR4_zUG_n",
        "outputId": "cbc6da04-670a-4162-9dd7-525c3d7a0c3a"
      },
      "execution_count": 7,
      "outputs": [
        {
          "output_type": "stream",
          "name": "stderr",
          "text": [
            "/usr/local/lib/python3.11/dist-packages/fuzzywuzzy/fuzz.py:11: UserWarning: Using slow pure-python SequenceMatcher. Install python-Levenshtein to remove this warning\n",
            "  warnings.warn('Using slow pure-python SequenceMatcher. Install python-Levenshtein to remove this warning')\n",
            "[nltk_data] Downloading package punkt to /root/nltk_data...\n",
            "[nltk_data]   Package punkt is already up-to-date!\n",
            "[nltk_data] Downloading package punkt_tab to /root/nltk_data...\n",
            "[nltk_data]   Package punkt_tab is already up-to-date!\n"
          ]
        },
        {
          "output_type": "execute_result",
          "data": {
            "text/plain": [
              "True"
            ]
          },
          "metadata": {},
          "execution_count": 7
        }
      ]
    },
    {
      "cell_type": "code",
      "source": [
        "# Step 1: Load and split text\n",
        "\n",
        "with open(\"sachin_tendulkar_bio.txt\", \"r\", encoding= \"utf-8\") as f:\n",
        "  content =f.read()\n",
        "content"
      ],
      "metadata": {
        "colab": {
          "base_uri": "https://localhost:8080/",
          "height": 127
        },
        "id": "0pQq8K_dUWGy",
        "outputId": "7f7cbb87-b780-43f4-ea1f-4e835e542b55"
      },
      "execution_count": 4,
      "outputs": [
        {
          "output_type": "execute_result",
          "data": {
            "text/plain": [
              "'\\nSachin Ramesh Tendulkar: The Master Blaster of Cricket\\n\\nEarly Life:\\nSachin Tendulkar was born on April 24, 1973, in Mumbai, India. He was introduced to cricket at an early age by his elder brother Ajit Tendulkar, who recognized his extraordinary talent. Under the mentorship of coach Ramakant Achrekar, Sachin began honing his cricketing skills at Shivaji Park. As a young boy, he played for his school team and gained immense attention by scoring centuries regularly in school-level tournaments.\\n\\nDomestic Debut:\\nAt the age of 15, Sachin made his debut in first-class cricket for Mumbai in the Ranji Trophy. He scored a century in his debut match against Gujarat, becoming the youngest Indian to do so at the time. His performance in domestic cricket quickly earned him a place in the national team.\\n\\nInternational Debut:\\nSachin Tendulkar made his international debut for India in a Test match against Pakistan in Karachi on November 15, 1989, at the age of 16. Despite facing a formidable bowling attack that included Waqar Younis and Wasim Akram, Tendulkar showed remarkable grit and determination.\\n\\nCareer Achievements:\\nSachin Tendulkar\\'s cricketing career spanned over two decades, during which he broke numerous records and set benchmarks in the game.\\n\\n- He is the only player in the history of cricket to score 100 international centuries.\\n- Tendulkar was the first player to score a double century in One Day Internationals (ODIs), achieving the feat against South Africa in 2010.\\n- He has scored 15,921 runs in Test matches and 18,426 runs in ODIs.\\n- He played a total of 200 Test matches and 463 ODIs.\\n- Tendulkar was part of the Indian cricket team that won the 2011 Cricket World Cup, a moment he described as the proudest in his life.\\n\\nStyle of Play:\\nKnown for his impeccable technique and timing, Tendulkar was a master of both defensive and attacking cricket. His ability to adapt to different conditions and opponents made him a formidable batsman in all formats of the game. His straight drive is considered one of the most beautiful shots in cricket.\\n\\nPost-Retirement:\\nSachin retired from ODIs in December 2012 and played his final Test match in November 2013 at Wankhede Stadium in Mumbai. After retirement, he continued to contribute to cricket and society through various philanthropic and mentoring roles. He was a mentor for the Mumbai Indians in the Indian Premier League (IPL) and worked with young cricketers to develop their skills.\\n\\nHonors and Awards:\\n- Bharat Ratna (2014): India\\'s highest civilian award.\\n- Padma Vibhushan (2008): India’s second-highest civilian award.\\n- Padma Shri (1999)\\n- Rajiv Gandhi Khel Ratna Award (1997-98)\\n- Arjuna Award (1994)\\n- Member of the ICC Cricket Hall of Fame (2019)\\n\\nLegacy:\\nTendulkar is widely regarded as one of the greatest cricketers of all time. His dedication, humility, and sportsmanship have inspired generations. Fans around the world revere him as the \"God of Cricket.\" His biography, \"Playing It My Way,\" is a bestseller and chronicles his journey in his own words.\\n\\nSachin Tendulkar\\'s story is not just about records but also about the spirit of the game. He remains a global icon and a source of inspiration for aspiring cricketers.\\n'"
            ],
            "application/vnd.google.colaboratory.intrinsic+json": {
              "type": "string"
            }
          },
          "metadata": {},
          "execution_count": 4
        }
      ]
    },
    {
      "cell_type": "code",
      "source": [
        "from langchain.text_splitter import TokenTextSplitter\n",
        "from fuzzywuzzy import fuzz\n",
        "\n",
        "# Initialize Token-based Text Splitter\n",
        "text_splitter = TokenTextSplitter(\n",
        "    chunk_size=20,       # number of tokens per chunk\n",
        "    chunk_overlap=5      # overlap to preserve context\n",
        ")\n",
        "\n",
        "# Split the text\n",
        "chunks = text_splitter.split_text(content)\n",
        "\n",
        "chunks[0]"
      ],
      "metadata": {
        "colab": {
          "base_uri": "https://localhost:8080/",
          "height": 36
        },
        "id": "vRpO1N9ZVJcN",
        "outputId": "f9b856a9-f06b-4943-b69e-25770e74b379"
      },
      "execution_count": 14,
      "outputs": [
        {
          "output_type": "execute_result",
          "data": {
            "text/plain": [
              "'\\nSachin Ramesh Tendulkar: The Master Blaster of Cricket\\n\\nEarly Life'"
            ],
            "application/vnd.google.colaboratory.intrinsic+json": {
              "type": "string"
            }
          },
          "metadata": {},
          "execution_count": 14
        }
      ]
    },
    {
      "cell_type": "code",
      "source": [
        "# Step 3: Wrap each sentence as a Document object\n",
        "docs = [Document(page_content=sent) for sent in chunks]\n",
        "docs[0]"
      ],
      "metadata": {
        "colab": {
          "base_uri": "https://localhost:8080/"
        },
        "id": "qauh_m9sauMA",
        "outputId": "f3490022-19e9-4db6-8fb8-3cff782ba2c7"
      },
      "execution_count": 15,
      "outputs": [
        {
          "output_type": "execute_result",
          "data": {
            "text/plain": [
              "Document(metadata={}, page_content='\\nSachin Ramesh Tendulkar: The Master Blaster of Cricket\\n\\nEarly Life')"
            ]
          },
          "metadata": {},
          "execution_count": 15
        }
      ]
    },
    {
      "cell_type": "code",
      "source": [
        "top_k = 3  # Number of top results to retrieve\n",
        "query = \"in April 24, 1973  who born\"\n",
        "# Extract document contents for fuzzy matching\n",
        "doc_contents = [doc.page_content for doc in docs]\n",
        "\n",
        "\n",
        "# Perform fuzzy search on the document contents and calculate match score\n",
        "results = []\n",
        "\n",
        "for doc in doc_contents:\n",
        "    score = fuzz.partial_ratio(query, doc)  # Calculate score using partial matching\n",
        "    results.append((doc, score))\n",
        "\n",
        "# Step 4: Sort results by score (in descending order) and get top_k results\n",
        "results.sort(key=lambda x: x[1], reverse=True)\n",
        "top_results = results[:top_k]\n",
        "\n",
        "# Step 5: Print results with matching score\n",
        "print(\"Top Fuzzy Search Results:\\n\")\n",
        "for i, (match, score) in enumerate(top_results, 1):\n",
        "    print(f\"{i}. {match}\\nScore: {score}/100\\n\")"
      ],
      "metadata": {
        "colab": {
          "base_uri": "https://localhost:8080/"
        },
        "id": "aUv15pO_UC_P",
        "outputId": "90207e5a-a311-41cf-dc3c-26884cb01c77"
      },
      "execution_count": 19,
      "outputs": [
        {
          "output_type": "stream",
          "name": "stdout",
          "text": [
            "Top Fuzzy Search Results:\n",
            "\n",
            "1.  Cricket\n",
            "\n",
            "Early Life:\n",
            "Sachin Tendulkar was born on April 24, 1973\n",
            "Score: 73/100\n",
            "\n",
            "2.  on April 24, 1973, in Mumbai, India. He was introduced to cricket at an early age\n",
            "Score: 70/100\n",
            "\n",
            "3. 63 ODIs.\n",
            "- Tendulkar was part of the Indian cricket team that won the 2011\n",
            "Score: 41/100\n",
            "\n"
          ]
        }
      ]
    },
    {
      "cell_type": "code",
      "source": [],
      "metadata": {
        "id": "aSwkifjLdblZ"
      },
      "execution_count": null,
      "outputs": []
    }
  ],
  "metadata": {
    "colab": {
      "provenance": []
    },
    "kernelspec": {
      "display_name": "Python 3",
      "name": "python3"
    },
    "language_info": {
      "name": "python"
    }
  },
  "nbformat": 4,
  "nbformat_minor": 0
}