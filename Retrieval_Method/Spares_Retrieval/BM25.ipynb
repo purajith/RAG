{
  "cells": [
    {
      "cell_type": "markdown",
      "metadata": {
        "id": "SU8R3WWccBHZ"
      },
      "source": [
        "\n",
        "\n",
        "###  1. **BM25** – *Semantic or Token-Level Partial Match*\n",
        "\n",
        "- **Use Case**: Matching documents that **contain some query terms**, not necessarily all.\n",
        "- **Best for**:\n",
        "  - Keyword-based search\n",
        "  - Information retrieval\n",
        "  - RAG systems\n",
        "- **Example**:  \n",
        "  Query: `\"deep learning health\"`  \n",
        "  Matches: `\"deep learning in healthcare\"`, even if \"health\" ≠ \"healthcare\".\n",
        "\n",
        ">  BM25 is great for finding **relevant documents even when only some terms match**.\n",
        "\n",
        "---\n",
        "\n",
        "\n",
        "### ✅ Summary: Which One to Choose?\n",
        "\n",
        "| Feature                    | BM25                        | Fuzzy Search               |\n",
        "|---------------------------|-----------------------------|----------------------------|\n",
        "| Partial term match        | ✔ Yes                       | ✖ No (character level only)|\n",
        "| Typo handling             | ✖ No                        | ✔ Yes                      |\n",
        "| Meaning/context based     | ✔ Yes (sort of)             | ✖ No                       |\n",
        "| Works well for RAG        | ✔ Perfect fit               | ✖ Not ideal                |\n",
        "\n",
        "---\n",
        "\n",
        "### ✅ Your Case (RAG or AI Search):\n",
        "**Use BM25** if you care about **relevance and partial keyword matching**.\n",
        "\n",
        "**Use Fuzzy Search** only if you're trying to correct user **typos** or **misspellings**.\n",
        "\n"
      ]
    },
    {
      "cell_type": "code",
      "execution_count": 60,
      "metadata": {
        "id": "keRETi0OQSdc"
      },
      "outputs": [],
      "source": [
        "%pip install --upgrade --quiet  rank_bm25  langchain nltk tiktoken fuzzywuzzy\n"
      ]
    },
    {
      "cell_type": "code",
      "execution_count": 35,
      "metadata": {
        "colab": {
          "base_uri": "https://localhost:8080/"
        },
        "id": "g8HdR4_zUG_n",
        "outputId": "00f6fe15-baf1-4756-a25d-39c3736dacc7"
      },
      "outputs": [
        {
          "name": "stderr",
          "output_type": "stream",
          "text": [
            "[nltk_data] Downloading package punkt to /root/nltk_data...\n",
            "[nltk_data]   Package punkt is already up-to-date!\n",
            "[nltk_data] Downloading package punkt_tab to /root/nltk_data...\n",
            "[nltk_data]   Package punkt_tab is already up-to-date!\n"
          ]
        },
        {
          "data": {
            "text/plain": [
              "True"
            ]
          },
          "execution_count": 35,
          "metadata": {},
          "output_type": "execute_result"
        }
      ],
      "source": [
        "from langchain.retrievers import BM25Retriever\n",
        "from langchain.schema import Document\n",
        "import nltk\n",
        "from nltk.tokenize import sent_tokenize\n",
        "\n",
        "# Download sentence tokenizer\n",
        "nltk.download(\"punkt\")\n",
        "nltk.download('punkt_tab')"
      ]
    },
    {
      "cell_type": "code",
      "execution_count": 36,
      "metadata": {
        "colab": {
          "base_uri": "https://localhost:8080/",
          "height": 127
        },
        "id": "0pQq8K_dUWGy",
        "outputId": "ed044ed6-1955-4acb-eb71-0082d4e4495e"
      },
      "outputs": [
        {
          "data": {
            "application/vnd.google.colaboratory.intrinsic+json": {
              "type": "string"
            },
            "text/plain": [
              "'\\nSachin Ramesh Tendulkar: The Master Blaster of Cricket\\n\\nEarly Life:\\nSachin Tendulkar was born on April 24, 1973, in Mumbai, India. He was introduced to cricket at an early age by his elder brother Ajit Tendulkar, who recognized his extraordinary talent. Under the mentorship of coach Ramakant Achrekar, Sachin began honing his cricketing skills at Shivaji Park. As a young boy, he played for his school team and gained immense attention by scoring centuries regularly in school-level tournaments.\\n\\nDomestic Debut:\\nAt the age of 15, Sachin made his debut in first-class cricket for Mumbai in the Ranji Trophy. He scored a century in his debut match against Gujarat, becoming the youngest Indian to do so at the time. His performance in domestic cricket quickly earned him a place in the national team.\\n\\nInternational Debut:\\nSachin Tendulkar made his international debut for India in a Test match against Pakistan in Karachi on November 15, 1989, at the age of 16. Despite facing a formidable bowling attack that included Waqar Younis and Wasim Akram, Tendulkar showed remarkable grit and determination.\\n\\nCareer Achievements:\\nSachin Tendulkar\\'s cricketing career spanned over two decades, during which he broke numerous records and set benchmarks in the game.\\n\\n- He is the only player in the history of cricket to score 100 international centuries.\\n- Tendulkar was the first player to score a double century in One Day Internationals (ODIs), achieving the feat against South Africa in 2010.\\n- He has scored 15,921 runs in Test matches and 18,426 runs in ODIs.\\n- He played a total of 200 Test matches and 463 ODIs.\\n- Tendulkar was part of the Indian cricket team that won the 2011 Cricket World Cup, a moment he described as the proudest in his life.\\n\\nStyle of Play:\\nKnown for his impeccable technique and timing, Tendulkar was a master of both defensive and attacking cricket. His ability to adapt to different conditions and opponents made him a formidable batsman in all formats of the game. His straight drive is considered one of the most beautiful shots in cricket.\\n\\nPost-Retirement:\\nSachin retired from ODIs in December 2012 and played his final Test match in November 2013 at Wankhede Stadium in Mumbai. After retirement, he continued to contribute to cricket and society through various philanthropic and mentoring roles. He was a mentor for the Mumbai Indians in the Indian Premier League (IPL) and worked with young cricketers to develop their skills.\\n\\nHonors and Awards:\\n- Bharat Ratna (2014): India\\'s highest civilian award.\\n- Padma Vibhushan (2008): India’s second-highest civilian award.\\n- Padma Shri (1999)\\n- Rajiv Gandhi Khel Ratna Award (1997-98)\\n- Arjuna Award (1994)\\n- Member of the ICC Cricket Hall of Fame (2019)\\n\\nLegacy:\\nTendulkar is widely regarded as one of the greatest cricketers of all time. His dedication, humility, and sportsmanship have inspired generations. Fans around the world revere him as the \"God of Cricket.\" His biography, \"Playing It My Way,\" is a bestseller and chronicles his journey in his own words.\\n\\nSachin Tendulkar\\'s story is not just about records but also about the spirit of the game. He remains a global icon and a source of inspiration for aspiring cricketers.\\n'"
            ]
          },
          "execution_count": 36,
          "metadata": {},
          "output_type": "execute_result"
        }
      ],
      "source": [
        "# Step 1: Load and split text\n",
        "\n",
        "with open(\"sachin_tendulkar_bio.txt\", \"r\", encoding= \"utf-8\") as f:\n",
        "  content =f.read()\n",
        "content"
      ]
    },
    {
      "cell_type": "code",
      "execution_count": 53,
      "metadata": {
        "colab": {
          "base_uri": "https://localhost:8080/",
          "height": 54
        },
        "id": "vRpO1N9ZVJcN",
        "outputId": "9d856d73-a2eb-432f-edb6-a35071b3feff"
      },
      "outputs": [
        {
          "data": {
            "application/vnd.google.colaboratory.intrinsic+json": {
              "type": "string"
            },
            "text/plain": [
              "'\\nSachin Ramesh Tendulkar: The Master Blaster of Cricket\\n\\nEarly Life:\\nSachin Tendulkar was born on April 24, 1973, in Mumbai, India. He was introduced to cricket at an early age'"
            ]
          },
          "execution_count": 53,
          "metadata": {},
          "output_type": "execute_result"
        }
      ],
      "source": [
        "from langchain.text_splitter import TokenTextSplitter\n",
        "\n",
        "# Initialize Token-based Text Splitter\n",
        "text_splitter = TokenTextSplitter(\n",
        "    chunk_size=50,       # number of tokens per chunk\n",
        "    chunk_overlap=5      # overlap to preserve context\n",
        ")\n",
        "\n",
        "# Split the text\n",
        "chunks = text_splitter.split_text(content)\n",
        "\n",
        "chunks[0]"
      ]
    },
    {
      "cell_type": "code",
      "execution_count": 56,
      "metadata": {
        "colab": {
          "base_uri": "https://localhost:8080/"
        },
        "id": "qauh_m9sauMA",
        "outputId": "a57d271e-0c60-4f4e-b6a0-d8e1a597f46c"
      },
      "outputs": [
        {
          "data": {
            "text/plain": [
              "Document(metadata={}, page_content='\\nSachin Ramesh Tendulkar: The Master Blaster of Cricket\\n\\nEarly Life:\\nSachin Tendulkar was born on April 24, 1973, in Mumbai, India. He was introduced to cricket at an early age')"
            ]
          },
          "execution_count": 56,
          "metadata": {},
          "output_type": "execute_result"
        }
      ],
      "source": [
        "# Step 3: Wrap each sentence as a Document object\n",
        "docs = [Document(page_content=sent) for sent in chunks]\n",
        "docs[0]"
      ]
    },
    {
      "cell_type": "code",
      "execution_count": 57,
      "metadata": {
        "colab": {
          "base_uri": "https://localhost:8080/"
        },
        "id": "aUv15pO_UC_P",
        "outputId": "20203c48-289e-4f26-b24c-31d414bc21a0"
      },
      "outputs": [
        {
          "name": "stdout",
          "output_type": "stream",
          "text": [
            " Top BM25 Results:\n",
            "\n",
            "1. \n",
            "Sachin Ramesh Tendulkar: The Master Blaster of Cricket\n",
            "\n",
            "Early Life:\n",
            "Sachin Tendulkar was born on April 24, 1973, in Mumbai, India. He was introduced to cricket at an early age\n",
            "\n",
            "2.  cricket at an early age by his elder brother Ajit Tendulkar, who recognized his extraordinary talent. Under the mentorship of coach Ramakant Achrekar, Sachin began honing his cricketing skills at Shivaji Park. As a\n",
            "\n",
            "3.  a place in the national team.\n",
            "\n",
            "International Debut:\n",
            "Sachin Tendulkar made his international debut for India in a Test match against Pakistan in Karachi on November 15, 1989, at the age of 16. Despite facing a formidable\n",
            "\n"
          ]
        }
      ],
      "source": [
        "\n",
        "# Step 4: Initialize BM25 Retriever\n",
        "retriever = BM25Retriever.from_documents(docs)\n",
        "retriever.k = 3  # Number of top results to retrieve\n",
        "\n",
        "# Step 5: Query\n",
        "query = \"who born on 1973 april\"\n",
        "results = retriever.get_relevant_documents(query)\n",
        "\n",
        "# Step 6: Print results\n",
        "print(\" Top BM25 Results:\\n\")\n",
        "for i, doc in enumerate(results, 1):\n",
        "    print(f\"{i}. {doc.page_content}\\n\")\n"
      ]
    },
    {
      "cell_type": "code",
      "execution_count": 62,
      "metadata": {
        "colab": {
          "base_uri": "https://localhost:8080/"
        },
        "id": "56qu0Zb_aTdL",
        "outputId": "e27f75bd-2c19-4519-ebae-3874811ec260"
      },
      "outputs": [
        {
          "name": "stdout",
          "output_type": "stream",
          "text": [
            "Top Fuzzy Search Results:\n",
            "\n",
            "1. Sachin Tendulkar was born in 1973, in April.\n",
            "Score: 86/100\n",
            "\n",
            "2. The history of famous cricketers who were born in April includes Sachin Tendulkar.\n",
            "Score: 86/100\n",
            "\n",
            "3. The famous cricketer Sachin Tendulkar was born on April 24th, 1973.\n",
            "Score: 86/100\n",
            "\n"
          ]
        }
      ],
      "source": [
        "from fuzzywuzzy import fuzz\n",
        "from fuzzywuzzy import process\n",
        "\n",
        "# Example Documents\n",
        "docs = [\n",
        "    {\"page_content\": \"Sachin Tendulkar was born in 1973, in April.\"},\n",
        "    {\"page_content\": \"The history of famous cricketers who were born in April includes Sachin Tendulkar.\"},\n",
        "    {\"page_content\": \"The famous cricketer Sachin Tendulkar was born on April 24th, 1973.\"},\n",
        "    {\"page_content\": \"Virat Kohli is a modern cricketer who plays for India.\"},\n",
        "    {\"page_content\": \"Cricket legends such as Brian Lara and Ricky Ponting shaped the sport.\"}\n",
        "]\n",
        "\n",
        "# Step 1: Query\n",
        "query = \"who born in 1973, in April\"\n",
        "\n",
        "# Step 2: Fuzzy Search (Using fuzzywuzzy's process.extract function)\n",
        "top_k = 3  # Number of top results to retrieve\n",
        "results = process.extract(query, [doc[\"page_content\"] for doc in docs], limit=top_k)\n",
        "\n",
        "# Step 3: Print results with matching score\n",
        "print(\"Top Fuzzy Search Results:\\n\")\n",
        "for i, (match, score) in enumerate(results, 1):\n",
        "    print(f\"{i}. {match}\\nScore: {score}/100\\n\")\n"
      ]
    },
    {
      "cell_type": "code",
      "execution_count": null,
      "metadata": {
        "id": "aSwkifjLdblZ"
      },
      "outputs": [],
      "source": []
    }
  ],
  "metadata": {
    "colab": {
      "provenance": []
    },
    "kernelspec": {
      "display_name": "Python 3",
      "name": "python3"
    },
    "language_info": {
      "name": "python"
    }
  },
  "nbformat": 4,
  "nbformat_minor": 0
}
